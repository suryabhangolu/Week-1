{
  "nbformat": 4,
  "nbformat_minor": 0,
  "metadata": {
    "colab": {
      "provenance": []
    },
    "kernelspec": {
      "name": "python3",
      "display_name": "Python 3"
    },
    "language_info": {
      "name": "python"
    }
  },
  "cells": [
    {
      "cell_type": "code",
      "execution_count": 1,
      "metadata": {
        "colab": {
          "base_uri": "https://localhost:8080/"
        },
        "id": "mEYcEl3so93n",
        "outputId": "ace6bcb0-2635-49de-8cc7-10e54366e18e"
      },
      "outputs": [
        {
          "output_type": "stream",
          "name": "stdout",
          "text": [
            "Mounted at /content/drive\n",
            "Found 1280 images belonging to 31 classes.\n",
            "Found 320 images belonging to 31 classes.\n",
            "Class labels: {'.git': 0, 'amla': 1, 'asopalav': 2, 'babul': 3, 'bamboo': 4, 'banyan': 5, 'bili': 6, 'cactus': 7, 'champa': 8, 'coconut': 9, 'garmalo': 10, 'gulmohor': 11, 'gunda': 12, 'jamun': 13, 'kanchan': 14, 'kesudo': 15, 'khajur': 16, 'mango': 17, 'motichanoti': 18, 'neem': 19, 'nilgiri': 20, 'other': 21, 'pilikaren': 22, 'pipal': 23, 'saptaparni': 24, 'shirish': 25, 'simlo': 26, 'sitafal': 27, 'sonmahor': 28, 'sugarcane': 29, 'vad': 30}\n",
            "Training samples: 1280\n",
            "Validation samples: 320\n"
          ]
        }
      ],
      "source": [
        "# Week 1 - Tree Species Classification (Image Dataset)\n",
        "\n",
        "from google.colab import drive\n",
        "drive.mount('/content/drive')\n",
        "\n",
        "# Path to the image dataset in Drive\n",
        "dataset_path = '/content/drive/MyDrive/Tree_Species_Dataset'\n",
        "\n",
        "from tensorflow.keras.preprocessing.image import ImageDataGenerator\n",
        "\n",
        "datagen = ImageDataGenerator(rescale=1./255, validation_split=0.2)\n",
        "\n",
        "train_generator = datagen.flow_from_directory(\n",
        "    dataset_path,\n",
        "    target_size=(224, 224),\n",
        "    batch_size=32,\n",
        "    class_mode='categorical',\n",
        "    subset='training'\n",
        ")\n",
        "\n",
        "val_generator = datagen.flow_from_directory(\n",
        "    dataset_path,\n",
        "    target_size=(224, 224),\n",
        "    batch_size=32,\n",
        "    class_mode='categorical',\n",
        "    subset='validation'\n",
        ")\n",
        "\n",
        "# Output some basic info\n",
        "print(\"Class labels:\", train_generator.class_indices)\n",
        "print(\"Training samples:\", train_generator.samples)\n",
        "print(\"Validation samples:\", val_generator.samples)\n"
      ]
    }
  ]
}